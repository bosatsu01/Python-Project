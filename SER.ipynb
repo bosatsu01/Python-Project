{
  "nbformat": 4,
  "nbformat_minor": 0,
  "metadata": {
    "colab": {
      "provenance": [],
      "authorship_tag": "ABX9TyO+070JFhKSuqD6dvo2RZU7",
      "include_colab_link": true
    },
    "kernelspec": {
      "name": "python3",
      "display_name": "Python 3"
    },
    "language_info": {
      "name": "python"
    }
  },
  "cells": [
    {
      "cell_type": "markdown",
      "metadata": {
        "id": "view-in-github",
        "colab_type": "text"
      },
      "source": [
        "<a href=\"https://colab.research.google.com/github/bosatsu01/Python-Project/blob/main/SER.ipynb\" target=\"_parent\"><img src=\"https://colab.research.google.com/assets/colab-badge.svg\" alt=\"Open In Colab\"/></a>"
      ]
    },
    {
      "cell_type": "markdown",
      "source": [
        "Importing libraries\n"
      ],
      "metadata": {
        "id": "3Jhe67CPyYyT"
      }
    },
    {
      "cell_type": "code",
      "execution_count": 2,
      "metadata": {
        "id": "P66lFUGeySO4"
      },
      "outputs": [],
      "source": [
        "import pandas as pd\n",
        "import numpy as np\n",
        "import os\n",
        "import seaborn as sns\n",
        "import matplotlib.pyplot as plt\n",
        "import librosa\n",
        "import librosa.display\n",
        "from IPython.display import Audio\n",
        "import warnings\n",
        "warnings.filterwarnings('ignore')"
      ]
    },
    {
      "cell_type": "markdown",
      "source": [
        "loading the dataset"
      ],
      "metadata": {
        "id": "5_eQ1u8nycTp"
      }
    },
    {
      "cell_type": "code",
      "source": [
        "paths = []\n",
        "labels = []\n",
        "for dirname, _, filenames in os.walk('/kaggle/input'):\n",
        "    for filename in filenames:\n",
        "        paths.append(os.path.join(dirname, filename))\n",
        "        label = filename.split('_')[-1]\n",
        "        label = label.split('.')[0]\n",
        "        labels.append(label.lower())\n",
        "    if len(paths) == 2800:\n",
        "         break\n",
        "print('Dataset is Loaded')"
      ],
      "metadata": {
        "colab": {
          "base_uri": "https://localhost:8080/"
        },
        "id": "hsXpWj_DyWCB",
        "outputId": "66411615-24fd-4439-aa28-d434c0e8ee9d"
      },
      "execution_count": 7,
      "outputs": [
        {
          "output_type": "stream",
          "name": "stdout",
          "text": [
            "Dataset is Loaded\n"
          ]
        }
      ]
    },
    {
      "cell_type": "markdown",
      "source": [
        "Total files in dataset=2800"
      ],
      "metadata": {
        "id": "VllrHIH1ynJh"
      }
    },
    {
      "cell_type": "code",
      "source": [
        "len(paths)"
      ],
      "metadata": {
        "colab": {
          "base_uri": "https://localhost:8080/"
        },
        "id": "8brU-eS7ylzQ",
        "outputId": "40c0423c-f070-40d7-8f9c-d63d7e36e29d"
      },
      "execution_count": 8,
      "outputs": [
        {
          "output_type": "execute_result",
          "data": {
            "text/plain": [
              "0"
            ]
          },
          "metadata": {},
          "execution_count": 8
        }
      ]
    },
    {
      "cell_type": "code",
      "source": [
        "paths[:5]"
      ],
      "metadata": {
        "colab": {
          "base_uri": "https://localhost:8080/"
        },
        "id": "S8wJ3dlkyx0L",
        "outputId": "e4ad646d-d862-47bf-a4c7-ef352aa5d2e7"
      },
      "execution_count": 9,
      "outputs": [
        {
          "output_type": "execute_result",
          "data": {
            "text/plain": [
              "[]"
            ]
          },
          "metadata": {},
          "execution_count": 9
        }
      ]
    },
    {
      "cell_type": "code",
      "source": [
        "labels[:5]"
      ],
      "metadata": {
        "colab": {
          "base_uri": "https://localhost:8080/"
        },
        "id": "dVSuaEoeyrCH",
        "outputId": "f14d5c9b-97f5-4cc9-a995-5264b0aba037"
      },
      "execution_count": 10,
      "outputs": [
        {
          "output_type": "execute_result",
          "data": {
            "text/plain": [
              "[]"
            ]
          },
          "metadata": {},
          "execution_count": 10
        }
      ]
    },
    {
      "cell_type": "code",
      "source": [
        "## Create a dataframe\n",
        "df = pd.DataFrame()\n",
        "df['speech'] = paths\n",
        "df['label'] = labels\n",
        "df.head()"
      ],
      "metadata": {
        "colab": {
          "base_uri": "https://localhost:8080/",
          "height": 53
        },
        "id": "aBttGIaPyfkm",
        "outputId": "a567c9b4-4833-4f89-be03-2b2d003b1d4e"
      },
      "execution_count": 11,
      "outputs": [
        {
          "output_type": "execute_result",
          "data": {
            "text/plain": [
              "Empty DataFrame\n",
              "Columns: [speech, label]\n",
              "Index: []"
            ],
            "text/html": [
              "\n",
              "  <div id=\"df-eb070c62-2e45-4efa-83aa-e5f698faeb8c\" class=\"colab-df-container\">\n",
              "    <div>\n",
              "<style scoped>\n",
              "    .dataframe tbody tr th:only-of-type {\n",
              "        vertical-align: middle;\n",
              "    }\n",
              "\n",
              "    .dataframe tbody tr th {\n",
              "        vertical-align: top;\n",
              "    }\n",
              "\n",
              "    .dataframe thead th {\n",
              "        text-align: right;\n",
              "    }\n",
              "</style>\n",
              "<table border=\"1\" class=\"dataframe\">\n",
              "  <thead>\n",
              "    <tr style=\"text-align: right;\">\n",
              "      <th></th>\n",
              "      <th>speech</th>\n",
              "      <th>label</th>\n",
              "    </tr>\n",
              "  </thead>\n",
              "  <tbody>\n",
              "  </tbody>\n",
              "</table>\n",
              "</div>\n",
              "    <div class=\"colab-df-buttons\">\n",
              "\n",
              "  <div class=\"colab-df-container\">\n",
              "    <button class=\"colab-df-convert\" onclick=\"convertToInteractive('df-eb070c62-2e45-4efa-83aa-e5f698faeb8c')\"\n",
              "            title=\"Convert this dataframe to an interactive table.\"\n",
              "            style=\"display:none;\">\n",
              "\n",
              "  <svg xmlns=\"http://www.w3.org/2000/svg\" height=\"24px\" viewBox=\"0 -960 960 960\">\n",
              "    <path d=\"M120-120v-720h720v720H120Zm60-500h600v-160H180v160Zm220 220h160v-160H400v160Zm0 220h160v-160H400v160ZM180-400h160v-160H180v160Zm440 0h160v-160H620v160ZM180-180h160v-160H180v160Zm440 0h160v-160H620v160Z\"/>\n",
              "  </svg>\n",
              "    </button>\n",
              "\n",
              "  <style>\n",
              "    .colab-df-container {\n",
              "      display:flex;\n",
              "      gap: 12px;\n",
              "    }\n",
              "\n",
              "    .colab-df-convert {\n",
              "      background-color: #E8F0FE;\n",
              "      border: none;\n",
              "      border-radius: 50%;\n",
              "      cursor: pointer;\n",
              "      display: none;\n",
              "      fill: #1967D2;\n",
              "      height: 32px;\n",
              "      padding: 0 0 0 0;\n",
              "      width: 32px;\n",
              "    }\n",
              "\n",
              "    .colab-df-convert:hover {\n",
              "      background-color: #E2EBFA;\n",
              "      box-shadow: 0px 1px 2px rgba(60, 64, 67, 0.3), 0px 1px 3px 1px rgba(60, 64, 67, 0.15);\n",
              "      fill: #174EA6;\n",
              "    }\n",
              "\n",
              "    .colab-df-buttons div {\n",
              "      margin-bottom: 4px;\n",
              "    }\n",
              "\n",
              "    [theme=dark] .colab-df-convert {\n",
              "      background-color: #3B4455;\n",
              "      fill: #D2E3FC;\n",
              "    }\n",
              "\n",
              "    [theme=dark] .colab-df-convert:hover {\n",
              "      background-color: #434B5C;\n",
              "      box-shadow: 0px 1px 3px 1px rgba(0, 0, 0, 0.15);\n",
              "      filter: drop-shadow(0px 1px 2px rgba(0, 0, 0, 0.3));\n",
              "      fill: #FFFFFF;\n",
              "    }\n",
              "  </style>\n",
              "\n",
              "    <script>\n",
              "      const buttonEl =\n",
              "        document.querySelector('#df-eb070c62-2e45-4efa-83aa-e5f698faeb8c button.colab-df-convert');\n",
              "      buttonEl.style.display =\n",
              "        google.colab.kernel.accessAllowed ? 'block' : 'none';\n",
              "\n",
              "      async function convertToInteractive(key) {\n",
              "        const element = document.querySelector('#df-eb070c62-2e45-4efa-83aa-e5f698faeb8c');\n",
              "        const dataTable =\n",
              "          await google.colab.kernel.invokeFunction('convertToInteractive',\n",
              "                                                    [key], {});\n",
              "        if (!dataTable) return;\n",
              "\n",
              "        const docLinkHtml = 'Like what you see? Visit the ' +\n",
              "          '<a target=\"_blank\" href=https://colab.research.google.com/notebooks/data_table.ipynb>data table notebook</a>'\n",
              "          + ' to learn more about interactive tables.';\n",
              "        element.innerHTML = '';\n",
              "        dataTable['output_type'] = 'display_data';\n",
              "        await google.colab.output.renderOutput(dataTable, element);\n",
              "        const docLink = document.createElement('div');\n",
              "        docLink.innerHTML = docLinkHtml;\n",
              "        element.appendChild(docLink);\n",
              "      }\n",
              "    </script>\n",
              "  </div>\n",
              "\n",
              "\n",
              "    </div>\n",
              "  </div>\n"
            ]
          },
          "metadata": {},
          "execution_count": 11
        }
      ]
    },
    {
      "cell_type": "code",
      "source": [
        "df['label'].value_counts()"
      ],
      "metadata": {
        "colab": {
          "base_uri": "https://localhost:8080/"
        },
        "id": "T2sy9o7izMpL",
        "outputId": "e1808c52-f683-4dc0-ce27-d15410e13f0d"
      },
      "execution_count": 12,
      "outputs": [
        {
          "output_type": "execute_result",
          "data": {
            "text/plain": [
              "Series([], Name: label, dtype: int64)"
            ]
          },
          "metadata": {},
          "execution_count": 12
        }
      ]
    },
    {
      "cell_type": "code",
      "source": [
        "sns.countplot(df['label'])"
      ],
      "metadata": {
        "id": "vYB3PcANzVU7"
      },
      "execution_count": null,
      "outputs": []
    },
    {
      "cell_type": "code",
      "source": [],
      "metadata": {
        "id": "ypFjWtowzhiN"
      },
      "execution_count": null,
      "outputs": []
    },
    {
      "cell_type": "markdown",
      "source": [
        "Functions for waveplot and spectrogram"
      ],
      "metadata": {
        "id": "HV2Vnld4zkza"
      }
    },
    {
      "cell_type": "code",
      "source": [
        "def waveplot(data, sr, emotion):\n",
        "    plt.figure(figsize=(10,4))\n",
        "    plt.title(emotion, size=20)\n",
        "    librosa.display.waveplot(data, sr=sr)\n",
        "    plt.show()\n",
        "\n",
        "def spectogram(data, sr, emotion):\n",
        "     x = librosa.stft(data)\n",
        "     xdb = librosa.amplitude_to_db(abs(x))\n",
        "     plt.figure(figsize=(11,4))\n",
        "     plt.title(emotion, size=20)\n",
        "     librosa.display.specshow(xdb, sr=sr, x_axis='time', y_axis='hz')\n",
        "     plt.colorbar()"
      ],
      "metadata": {
        "id": "HWYWF-CuzjxY"
      },
      "execution_count": null,
      "outputs": []
    },
    {
      "cell_type": "code",
      "source": [
        "emotion = 'fear'\n",
        "path = np.array(df['speech'][df['label']==emotion])[0]\n",
        "data, sampling_rate = librosa.load(path)\n",
        "waveplot(data, sampling_rate, emotion)\n",
        "spectogram(data, sampling_rate, emotion)\n",
        "Audio(path)"
      ],
      "metadata": {
        "id": "R2ww_w7Xzo6X"
      },
      "execution_count": null,
      "outputs": []
    },
    {
      "cell_type": "code",
      "source": [
        "emotion = 'angry'\n",
        "path = np.array(df['speech'][df['label']==emotion])[1]\n",
        "data, sampling_rate = librosa.load(path)\n",
        "waveplot(data, sampling_rate, emotion)\n",
        "spectogram(data, sampling_rate, emotion)\n",
        "Audio(path)"
      ],
      "metadata": {
        "id": "em3fMOxczuxT"
      },
      "execution_count": null,
      "outputs": []
    },
    {
      "cell_type": "code",
      "source": [
        "emotion = 'disgust'\n",
        "path = np.array(df['speech'][df['label']==emotion])[0]\n",
        "data, sampling_rate = librosa.load(path)\n",
        "waveplot(data, sampling_rate, emotion)\n",
        "spectogram(data, sampling_rate, emotion)\n",
        "Audio(path)"
      ],
      "metadata": {
        "id": "SR5yBJAWzxHe"
      },
      "execution_count": null,
      "outputs": []
    },
    {
      "cell_type": "code",
      "source": [
        "emotion = 'neutral'\n",
        "path = np.array(df['speech'][df['label']==emotion])[0]\n",
        "data, sampling_rate = librosa.load(path)\n",
        "waveplot(data, sampling_rate, emotion)\n",
        "spectogram(data, sampling_rate, emotion)\n",
        "Audio(path)"
      ],
      "metadata": {
        "id": "ZHyRK8ByzzVA"
      },
      "execution_count": null,
      "outputs": []
    },
    {
      "cell_type": "code",
      "source": [
        "emotion = 'sad'\n",
        "path = np.array(df['speech'][df['label']==emotion])[0]\n",
        "data, sampling_rate = librosa.load(path)\n",
        "waveplot(data, sampling_rate, emotion)\n",
        "spectogram(data, sampling_rate, emotion)\n",
        "Audio(path)"
      ],
      "metadata": {
        "id": "IuiBU-B9z2OW"
      },
      "execution_count": null,
      "outputs": []
    },
    {
      "cell_type": "code",
      "source": [
        "emotion = 'ps'\n",
        "path = np.array(df['speech'][df['label']==emotion])[0]\n",
        "data, sampling_rate = librosa.load(path)\n",
        "waveplot(data, sampling_rate, emotion)\n",
        "spectogram(data, sampling_rate, emotion)\n",
        "Audio(path)"
      ],
      "metadata": {
        "id": "x37dVaPZz5Tz"
      },
      "execution_count": null,
      "outputs": []
    },
    {
      "cell_type": "code",
      "source": [
        "emotion = 'happy'\n",
        "path = np.array(df['speech'][df['label']==emotion])[0]\n",
        "data, sampling_rate = librosa.load(path)\n",
        "waveplot(data, sampling_rate, emotion)\n",
        "spectogram(data, sampling_rate, emotion)\n",
        "Audio(path)"
      ],
      "metadata": {
        "id": "mSO-iKpmz7w1"
      },
      "execution_count": null,
      "outputs": []
    },
    {
      "cell_type": "markdown",
      "source": [
        "Feature extraction"
      ],
      "metadata": {
        "id": "vvyd_aND0CnG"
      }
    },
    {
      "cell_type": "code",
      "source": [
        "def extract_mfcc(filename):\n",
        "     y, sr = librosa.load(filename, duration=3, offset=0.5)\n",
        "     mfcc = np.mean(librosa.feature.mfcc(y=y, sr=sr, n_mfcc=40).T, axis=0)\n",
        "     return mfcc"
      ],
      "metadata": {
        "id": "WABE24DH0BYV"
      },
      "execution_count": null,
      "outputs": []
    },
    {
      "cell_type": "code",
      "source": [
        "extract_mfcc(df['speech'][0])"
      ],
      "metadata": {
        "id": "s2IXV-K20Hwq"
      },
      "execution_count": null,
      "outputs": []
    },
    {
      "cell_type": "code",
      "source": [
        "X_mfcc = df['speech'].apply(lambda x: extract_mfcc(x))"
      ],
      "metadata": {
        "id": "Bwak02Tv0MZe"
      },
      "execution_count": null,
      "outputs": []
    },
    {
      "cell_type": "code",
      "source": [
        "X_mfcc"
      ],
      "metadata": {
        "id": "xiaqbVGq0Us8"
      },
      "execution_count": null,
      "outputs": []
    },
    {
      "cell_type": "code",
      "source": [
        "X = [x for x in X_mfcc]\n",
        "X = np.array(X)\n",
        "X.shape"
      ],
      "metadata": {
        "id": "T73l7ZTS0XMt"
      },
      "execution_count": null,
      "outputs": []
    },
    {
      "cell_type": "code",
      "source": [
        "## input split\n",
        "X = np.expand_dims(X, -1)\n",
        "X.shape"
      ],
      "metadata": {
        "id": "FHV7W2UE0ZNf"
      },
      "execution_count": null,
      "outputs": []
    },
    {
      "cell_type": "code",
      "source": [
        "from sklearn.preprocessing import OneHotEncoder\n",
        "enc = OneHotEncoder()\n",
        "y = enc.fit_transform(df[['label']])\n",
        "y = y.toarray()\n",
        "y.shape"
      ],
      "metadata": {
        "id": "_wi9vRxh0cm0"
      },
      "execution_count": null,
      "outputs": []
    },
    {
      "cell_type": "code",
      "source": [
        "from sklearn.preprocessing import OneHotEncoder\n",
        "enc = OneHotEncoder()\n",
        "y = enc.fit_transform(df[['label']])\n",
        "y = y.toarray()\n",
        "y.shape"
      ],
      "metadata": {
        "id": "UdK1F7vJ0g4H"
      },
      "execution_count": null,
      "outputs": []
    },
    {
      "cell_type": "markdown",
      "source": [
        "Training the model"
      ],
      "metadata": {
        "id": "rTGLx9GO0lDz"
      }
    },
    {
      "cell_type": "code",
      "source": [
        "# Train the model\n",
        "history = model.fit(X, y, validation_split=0.2, epochs=50, batch_size=64)"
      ],
      "metadata": {
        "id": "3pNKefRG0kHp"
      },
      "execution_count": null,
      "outputs": []
    },
    {
      "cell_type": "code",
      "source": [
        "epochs = list(range(50))\n",
        "acc = history.history['accuracy']\n",
        "val_acc = history.history['val_accuracy']\n",
        "\n",
        "plt.plot(epochs, acc, label='train accuracy')\n",
        "plt.plot(epochs, val_acc, label='val accuracy')\n",
        "plt.xlabel('epochs')\n",
        "plt.ylabel('accuracy')\n",
        "plt.legend()\n",
        "plt.show()"
      ],
      "metadata": {
        "id": "5D5CqlZo0oH4"
      },
      "execution_count": null,
      "outputs": []
    },
    {
      "cell_type": "code",
      "source": [
        "loss = history.history['loss']\n",
        "val_loss = history.history['val_loss']\n",
        "\n",
        "plt.plot(epochs, loss, label='train loss')\n",
        "plt.plot(epochs, val_loss, label='val loss')\n",
        "plt.xlabel('epochs')\n",
        "plt.ylabel('loss')\n",
        "plt.legend()\n",
        "plt.show()"
      ],
      "metadata": {
        "id": "OYuplMff0tvj"
      },
      "execution_count": null,
      "outputs": []
    }
  ]
}